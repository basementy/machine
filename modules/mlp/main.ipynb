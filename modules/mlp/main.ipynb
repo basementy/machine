{
 "cells": [
  {
   "cell_type": "markdown",
   "metadata": {},
   "source": [
    "1. Importando o pandas para ler o arquivo csv de treino"
   ]
  },
  {
   "cell_type": "code",
   "execution_count": 1,
   "metadata": {},
   "outputs": [],
   "source": [
    "import pandas as pd\n",
    "\n",
    "data = pd.read_csv(\"./datasets/train_dataset.csv\")\n",
    "data = data[['company_name_encoded','experience', 'location', 'salary']]"
   ]
  },
  {
   "cell_type": "markdown",
   "metadata": {},
   "source": [
    "2. Limpando o dataframe do dataset de treino importado"
   ]
  },
  {
   "cell_type": "code",
   "execution_count": 2,
   "metadata": {},
   "outputs": [],
   "source": [
    "# separando o campo de \"experience\" em duas novas colunas, \"min\" e \"max\"\n",
    "experience = list(data.experience)\n",
    "\n",
    "min_ex = []\n",
    "max_ex = []\n",
    "\n",
    "for i in range(len(experience)):\n",
    "   experience[i] = experience[i].replace(\"yrs\",\"\").strip()\n",
    "\n",
    "   min_ex.append(int(experience[i].split(\"-\")[0].strip()))\n",
    "   max_ex.append(int(experience[i].split(\"-\")[1].strip()))\n",
    "\n",
    "# anexando as novas colunas de \"min\" e \"max\" experience ao dataset\n",
    "data[\"min_exp\"] = min_ex\n",
    "data[\"max_exp\"] = max_ex\n",
    "\n",
    "# criando um encoding do campo de \"location\" e \"salary\"\n",
    "from sklearn.preprocessing import LabelEncoder\n",
    "\n",
    "label_encoder = LabelEncoder()\n",
    "\n",
    "data['location'] = label_encoder.fit_transform(data['location'])\n",
    "data['salary'] = label_encoder.fit_transform(data['salary'])\n",
    "\n",
    "# removendo a coluna original de experiência e reordenando as colunas\n",
    "data.drop(['experience'], inplace = True, axis = 1)\n",
    "\n",
    "data = data[['company_name_encoded', 'location','min_exp', 'max_exp', 'salary']]"
   ]
  },
  {
   "cell_type": "markdown",
   "metadata": {},
   "source": [
    "3. Escalando todos os recursos numéricos no conjunto de dados"
   ]
  },
  {
   "cell_type": "code",
   "execution_count": 3,
   "metadata": {},
   "outputs": [],
   "source": [
    "from sklearn.preprocessing import StandardScaler\n",
    "\n",
    "standard_scaler = StandardScaler()\n",
    "\n",
    "data[['company_name_encoded', 'location', 'min_exp', 'max_exp']] = standard_scaler.fit_transform(data[['company_name_encoded', 'location', 'min_exp', 'max_exp']])"
   ]
  },
  {
   "cell_type": "markdown",
   "metadata": {},
   "source": [
    "4. Criando os sets de treino e validação"
   ]
  },
  {
   "cell_type": "code",
   "execution_count": 4,
   "metadata": {},
   "outputs": [],
   "source": [
    "# separando o dataset em treino e teste\n",
    "from sklearn.model_selection import train_test_split\n",
    "\n",
    "training_set, validation_set = train_test_split(data, test_size = 0.2, random_state = 21)\n",
    "\n",
    "# classificando os predictores e variáveis-alvo como X e Y\n",
    "X_train = training_set.iloc[:,0:-1].values\n",
    "Y_train = training_set.iloc[:,-1].values\n",
    "\n",
    "X_val = validation_set.iloc[:,0:-1].values\n",
    "y_val = validation_set.iloc[:,-1].values\n",
    "\n",
    "# o código acima gera predictores e alvos que podemos treinar e validar nosso modelo."
   ]
  },
  {
   "cell_type": "markdown",
   "metadata": {},
   "source": [
    "5. Medindo as predições usando MLPClassifier & MLPRegressor"
   ]
  },
  {
   "cell_type": "code",
   "execution_count": 5,
   "metadata": {},
   "outputs": [],
   "source": [
    "# importando o MLPClassifier & MLPRegressor\n",
    "from sklearn.neural_network import MLPClassifier, MLPRegressor"
   ]
  },
  {
   "cell_type": "code",
   "execution_count": 6,
   "metadata": {},
   "outputs": [
    {
     "name": "stdout",
     "output_type": "stream",
     "text": [
      "[Classificador] Predicção Média: 1.90\n",
      "[Classificador] Predicção Máxima: 5.00\n",
      "[Classificador] Predicção Mínima: 0.00\n"
     ]
    }
   ],
   "source": [
    "# inicializando o MLPClassifier\n",
    "classifier = MLPClassifier(hidden_layer_sizes=(150,100,50),max_iter=500,activation='relu',solver='adam',random_state=1)\n",
    "\n",
    "# ajustando os dados de treinamento ao modelo\n",
    "classifier.fit(X_train, Y_train)\n",
    "\n",
    "# predictando os valores de y para os dados de teste\n",
    "y_classifier_pred = classifier.predict(X_val)\n",
    "\n",
    "print('[Classificador] Predicção Média: {:.2f}'.format(y_classifier_pred.mean()))\n",
    "print('[Classificador] Predicção Máxima: {:.2f}'.format(y_classifier_pred.max()))\n",
    "print('[Classificador] Predicção Mínima: {:.2f}'.format(y_classifier_pred.min()))"
   ]
  },
  {
   "cell_type": "code",
   "execution_count": 7,
   "metadata": {},
   "outputs": [
    {
     "name": "stdout",
     "output_type": "stream",
     "text": [
      "[Regressor] Predicção Média: 2.41\n",
      "[Regressor] Predicção Máxima: 4.69\n",
      "[Regressor] Predicção Mínima: -0.55\n"
     ]
    }
   ],
   "source": [
    "# inicializando o MLPRegressor\n",
    "regressor = MLPRegressor(hidden_layer_sizes=(150,100,50),max_iter=500,activation='relu',solver='adam',random_state=1)\n",
    "\n",
    "# ajustando os dados de treinamento ao modelo\n",
    "regressor.fit(X_train, Y_train)\n",
    "\n",
    "# predictando os valores de y para os dados de teste\n",
    "y_regressor_pred = regressor.predict(X_val)\n",
    "\n",
    "print('[Regressor] Predicção Média: {:.2f}'.format(y_regressor_pred.mean()))\n",
    "print('[Regressor] Predicção Máxima: {:.2f}'.format(y_regressor_pred.max()))\n",
    "print('[Regressor] Predicção Mínima: {:.2f}'.format(y_regressor_pred.min()))"
   ]
  }
 ],
 "metadata": {
  "interpreter": {
   "hash": "767d51c1340bd893661ea55ea3124f6de3c7a262a8b4abca0554b478b1e2ff90"
  },
  "kernelspec": {
   "display_name": "Python 3.10.4 64-bit",
   "language": "python",
   "name": "python3"
  },
  "language_info": {
   "codemirror_mode": {
    "name": "ipython",
    "version": 3
   },
   "file_extension": ".py",
   "mimetype": "text/x-python",
   "name": "python",
   "nbconvert_exporter": "python",
   "pygments_lexer": "ipython3",
   "version": "3.10.4"
  },
  "orig_nbformat": 4
 },
 "nbformat": 4,
 "nbformat_minor": 2
}
